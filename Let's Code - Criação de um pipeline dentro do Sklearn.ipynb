{
 "cells": [
  {
   "cell_type": "markdown",
   "id": "549290d2",
   "metadata": {},
   "source": [
    "# Let's Code - Criação de um pipeline dentro do Sklearn:\n",
    "\n",
    "<img src=\"Figures/logo_lets_code.jpeg\">\n",
    "\n",
    "\n",
    "## Na aula de hoje falaremos sobre os seguintes tópicos:\n",
    "\n",
    "- Motivação\n",
    "- O que é um pipeline?\n",
    "- Quais as vantagens de se utilizar um pipeline?\n",
    "- E o pipeline dentro do contexto de ciência de dados?\n",
    "    - Feature normalization\n",
    "    - Feature selection\n",
    "    - Treinando e avaliando modelos em Pipelines\n",
    "        - Cross Validation em Pipelines\n",
    "        - Grid-Search com Pipelines\n",
    "- O pipeline em aplicação no dia-a-dia do cientista de dados\n",
    "\n",
    "\n",
    "## Quem irá ministrar a aula de hoje vai ser:\n",
    "\n",
    "- Lucas Félix\n",
    "- Formado em ciência da computação pela UFSJ (2018)\n",
    "- Mestrando em ciência da computação pela UFMG\n",
    "- Consultor sênior em ciência de dados na Deloitte\n",
    "- Experiência com: Machine Learning, Otimização, Heurísticas, Data Scrapping, Sistemas de Recomendação, Desenvolvimento de Software\n",
    "\n",
    "\n",
    "## Motivação:\n",
    "\n",
    "<img src=\"Figures/cientista-de-dados.png\">\n",
    "<center><b>Pilares de habilidades de um cientista de dados</b></center>\n",
    "\n",
    "O cientista de dados é atualmente considerado um unicórnio no mercado (profissional difícil de conseguir especializado em áreas distintas).\n",
    "\n",
    "Conhecer tudo dentro de todos estes universos é por vezes uma tarefa árdua e distante de maioria dos profissionais. Para facilitar o conhecimento dentro de todo esse universo, bibliotecas auxiliam o profissional a atingir múltiplos objetivos oferecendo maneiras distintas de se fazer um mesma coisa.\n",
    "\n",
    "Nesta aula iremos focar em uma função dentro da biblioteca Sklearn que permite o profissional entrar dentro das áreas de aprendizado de máquina e na área de programação tradicional de software.\n",
    "\n",
    "### Qual a necessidade de focar em vários pilares ao mesmo tempo?\n",
    "\n",
    "Dada a dinamicidade de um projeto de ciência de dados, tanto em termos de requisitos do problema de atuação quanto em termos do time que atua no projeto, desenvolver um código de alta legibilidade (código fácil de ler e entender) e reprodutibilidade (fácil de executar e alcançar resultados) é essencial.\n",
    "\n",
    "<br>\n",
    "<br>\n",
    "\n",
    "<figure class=\"half\" style=\"display:flex\">\n",
    "    <img style=\"width:500px\" src=\"Figures/legibilidade.ppm\">\n",
    "    <img style=\"width:500px\" src=\"Figures/reproductibilidade.jpg\">\n",
    "</figure>\n",
    "<center><b>Legibilidade e Reproductibilidade são pilares da ciência de dados</b></center>\n",
    "\n",
    "\n",
    "## O que é um pipeline?\n",
    "\n",
    "\n",
    "Um pipeline (em tradução livre uma sequência de canos conectados) é uma sequência de funções conectadas que ao final nos dá um resultado esperado. A concepção de um pipeline não está inicialmente ligada com Aprendizado de Máquina e sim com Orientação à Objetos (OO), onde as linguagens desse paradigma permitem a concatenação sequencial de funções.\n",
    "\n",
    "Considere o exemplo abaixo onde várias funções estão sendo aplicadas sob uma string:"
   ]
  },
  {
   "cell_type": "markdown",
   "id": "f04a222f",
   "metadata": {},
   "source": [
    "#### Exemplo 1: Implementação sem pipes"
   ]
  },
  {
   "cell_type": "code",
   "execution_count": 1,
   "id": "0729fdfa",
   "metadata": {},
   "outputs": [],
   "source": [
    "string = \"O rato roeu a roupa do rei de roma\"\n",
    "\n",
    "# deixa tudo como letra minuscula\n",
    "string = string.lower()\n",
    "\n",
    "# substitui a palavra rato por rata\n",
    "string = string.replace(\"rato\", \"rata\")\n",
    "\n",
    "# substitui rei por rainha\n",
    "string = string.replace(\"rei\", \"rainha\")\n",
    "\n",
    "# substitui o por a\n",
    "string = string.replace(\"o \", \"a \")\n",
    "\n",
    "# substitui \"do\" por \"da\"\n",
    "string = string.replace(\"do\", \"da\")\n",
    "\n",
    "# deixa a primeira letra maiúscula\n",
    "string = string.capitalize()\n"
   ]
  },
  {
   "cell_type": "markdown",
   "id": "6abca4b6",
   "metadata": {},
   "source": [
    "#### Como podemos melhorar o código acima?"
   ]
  },
  {
   "cell_type": "code",
   "execution_count": 2,
   "id": "1f669d16",
   "metadata": {},
   "outputs": [],
   "source": [
    "string = \"O rato roeu a roupa do rei de roma\"\n",
    "\n",
    "string = string.lower()\n",
    "\n",
    "replace = {\"rato\": \"rata\", \"rei\": \"rainha\", \"o \": \"a \", \"do\": \"da\"}\n",
    "\n",
    "for original, replacer in replace.items():\n",
    "    \n",
    "    string = string.replace(original, replacer)\n",
    "\n",
    "string = string.capitalize()"
   ]
  },
  {
   "cell_type": "markdown",
   "id": "4bd86765",
   "metadata": {},
   "source": [
    "#### Exemplo 2: Pipeline em linguagens orientadas a objeto"
   ]
  },
  {
   "cell_type": "code",
   "execution_count": 3,
   "id": "3f03e0e9",
   "metadata": {},
   "outputs": [
    {
     "data": {
      "text/plain": [
       "'A rata roeu a roupa da rainha de roma'"
      ]
     },
     "execution_count": 3,
     "metadata": {},
     "output_type": "execute_result"
    }
   ],
   "source": [
    "string = \"O rato roeu a roupa do rei de roma\"\n",
    "\n",
    "string.lower().replace(\"rato\", \"rata\").replace(\"rei\", \"rainha\").replace(\"o \", \"a \").replace(\"do\", \"da\").capitalize()"
   ]
  },
  {
   "cell_type": "code",
   "execution_count": 4,
   "id": "147d9414",
   "metadata": {},
   "outputs": [],
   "source": [
    "def to_str(value):\n",
    "    \n",
    "    return str(value) + \" é a resposta para tudo\""
   ]
  },
  {
   "cell_type": "markdown",
   "id": "8826e638",
   "metadata": {},
   "source": [
    "#### Exemplo 3: Utilizando funções customizadas"
   ]
  },
  {
   "cell_type": "code",
   "execution_count": 5,
   "id": "ac109598",
   "metadata": {},
   "outputs": [],
   "source": [
    "string = to_str(42)\n",
    "\n",
    "# todas as palavras com a primeira letra maiuscula\n",
    "string = string.title()\n",
    "\n",
    "# RESPOSTA agora é toda maiúscula\n",
    "string = string.replace(\"Resposta\", \"RESPOSTA\")"
   ]
  },
  {
   "cell_type": "markdown",
   "id": "6e50b065",
   "metadata": {},
   "source": [
    "#### Exemplo 4: Pipeline com funções customizadas"
   ]
  },
  {
   "cell_type": "code",
   "execution_count": 6,
   "id": "9312dca3",
   "metadata": {},
   "outputs": [
    {
     "data": {
      "text/plain": [
       "'42 É A RESPOSTA Para Tudo'"
      ]
     },
     "execution_count": 6,
     "metadata": {},
     "output_type": "execute_result"
    }
   ],
   "source": [
    "to_str(42).title().replace(\"Resposta\", \"RESPOSTA\")"
   ]
  },
  {
   "cell_type": "markdown",
   "id": "0cb72a73",
   "metadata": {},
   "source": [
    "## Quais as vantagens de se utilizar um pipeline?\n",
    "\n",
    "Os códigos acima são exemplos básicos da utilização de um pipeline. Dentro de códigos pequenos talvez não seja possível ver tanta a necessidade da utilização de pipes em funções, entretanto, em grandes projetos que exigem muitas linhas de código de dedicação esse tipo de técnica se torna indispensável. <br>\n",
    "\n",
    "Assim as principais vantagens de se utilizar um pipeline são:\n",
    "\n",
    "- Aumento na legibilidade de código\n",
    "- Aumento na reproductibilidade dos resultados\n",
    "\n",
    "\n",
    "Entretanto, vale ressaltar, que o uso excessivo de pipes pode atrapalhar um pouco na legibilidade. Vai do bom senso do profissional ver até que ponto o uso trás benefícios pra legibilidade do código."
   ]
  },
  {
   "cell_type": "markdown",
   "id": "fd66c0fb",
   "metadata": {},
   "source": [
    "## E o pipeline dentro do contexto de ciência de dados?\n",
    "\n",
    "O pipeline em aprendizado de máquina foi introduzido pela biblioteca Sklearn com o objetivo de aumentar a legibilidade de código evitando a reutilização execessiva de variáveis. Outro ponto é a reproductibilidade dos experimentos e sistemas que são feitos com base em modelos do Sklearn\n",
    "\n",
    "<br>\n",
    "\n",
    "Para colocar tudo isso que nós vimos em prática, vamos passar por um stack completo de operações utilizando o pipeline. As operações que serão realizadas são:\n",
    "\n",
    "- Feature Normalization\n",
    "- Feature Selection\n",
    "- Grid Search\n",
    "- Cross-Validation\n",
    "\n",
    "Para este exemplo vamos utilizar os dados do dataset heart disease: <b><a href=\"https://www.kaggle.com/ronitf/heart-disease-uci\">Heart Disease</a></b>. O objetivo neste dataset é se um paciente possui uma doença cardíaca ou não."
   ]
  },
  {
   "cell_type": "code",
   "execution_count": 7,
   "id": "b83c497d",
   "metadata": {},
   "outputs": [],
   "source": [
    "import pandas as pd\n",
    "\n",
    "import numpy as np"
   ]
  },
  {
   "cell_type": "code",
   "execution_count": 8,
   "id": "897d089d",
   "metadata": {},
   "outputs": [],
   "source": [
    "df = pd.read_table(\"Data/heart.csv\", sep=',')"
   ]
  },
  {
   "cell_type": "code",
   "execution_count": 9,
   "id": "5eb150c6",
   "metadata": {},
   "outputs": [
    {
     "data": {
      "text/html": [
       "<div>\n",
       "<style scoped>\n",
       "    .dataframe tbody tr th:only-of-type {\n",
       "        vertical-align: middle;\n",
       "    }\n",
       "\n",
       "    .dataframe tbody tr th {\n",
       "        vertical-align: top;\n",
       "    }\n",
       "\n",
       "    .dataframe thead th {\n",
       "        text-align: right;\n",
       "    }\n",
       "</style>\n",
       "<table border=\"1\" class=\"dataframe\">\n",
       "  <thead>\n",
       "    <tr style=\"text-align: right;\">\n",
       "      <th></th>\n",
       "      <th>age</th>\n",
       "      <th>sex</th>\n",
       "      <th>cp</th>\n",
       "      <th>trestbps</th>\n",
       "      <th>chol</th>\n",
       "      <th>fbs</th>\n",
       "      <th>restecg</th>\n",
       "      <th>thalach</th>\n",
       "      <th>exang</th>\n",
       "      <th>oldpeak</th>\n",
       "      <th>slope</th>\n",
       "      <th>ca</th>\n",
       "      <th>thal</th>\n",
       "      <th>target</th>\n",
       "    </tr>\n",
       "  </thead>\n",
       "  <tbody>\n",
       "    <tr>\n",
       "      <th>0</th>\n",
       "      <td>63</td>\n",
       "      <td>M</td>\n",
       "      <td>3</td>\n",
       "      <td>145</td>\n",
       "      <td>233</td>\n",
       "      <td>1</td>\n",
       "      <td>0</td>\n",
       "      <td>150</td>\n",
       "      <td>0</td>\n",
       "      <td>2.3</td>\n",
       "      <td>0</td>\n",
       "      <td>0</td>\n",
       "      <td>1</td>\n",
       "      <td>1</td>\n",
       "    </tr>\n",
       "    <tr>\n",
       "      <th>1</th>\n",
       "      <td>37</td>\n",
       "      <td>M</td>\n",
       "      <td>2</td>\n",
       "      <td>130</td>\n",
       "      <td>250</td>\n",
       "      <td>0</td>\n",
       "      <td>1</td>\n",
       "      <td>187</td>\n",
       "      <td>0</td>\n",
       "      <td>3.5</td>\n",
       "      <td>0</td>\n",
       "      <td>0</td>\n",
       "      <td>2</td>\n",
       "      <td>1</td>\n",
       "    </tr>\n",
       "    <tr>\n",
       "      <th>2</th>\n",
       "      <td>41</td>\n",
       "      <td>F</td>\n",
       "      <td>1</td>\n",
       "      <td>130</td>\n",
       "      <td>204</td>\n",
       "      <td>0</td>\n",
       "      <td>0</td>\n",
       "      <td>172</td>\n",
       "      <td>0</td>\n",
       "      <td>1.4</td>\n",
       "      <td>2</td>\n",
       "      <td>0</td>\n",
       "      <td>2</td>\n",
       "      <td>1</td>\n",
       "    </tr>\n",
       "    <tr>\n",
       "      <th>3</th>\n",
       "      <td>56</td>\n",
       "      <td>M</td>\n",
       "      <td>1</td>\n",
       "      <td>120</td>\n",
       "      <td>236</td>\n",
       "      <td>0</td>\n",
       "      <td>1</td>\n",
       "      <td>178</td>\n",
       "      <td>0</td>\n",
       "      <td>0.8</td>\n",
       "      <td>2</td>\n",
       "      <td>0</td>\n",
       "      <td>2</td>\n",
       "      <td>1</td>\n",
       "    </tr>\n",
       "    <tr>\n",
       "      <th>4</th>\n",
       "      <td>57</td>\n",
       "      <td>F</td>\n",
       "      <td>0</td>\n",
       "      <td>120</td>\n",
       "      <td>354</td>\n",
       "      <td>0</td>\n",
       "      <td>1</td>\n",
       "      <td>163</td>\n",
       "      <td>1</td>\n",
       "      <td>0.6</td>\n",
       "      <td>2</td>\n",
       "      <td>0</td>\n",
       "      <td>2</td>\n",
       "      <td>1</td>\n",
       "    </tr>\n",
       "    <tr>\n",
       "      <th>...</th>\n",
       "      <td>...</td>\n",
       "      <td>...</td>\n",
       "      <td>...</td>\n",
       "      <td>...</td>\n",
       "      <td>...</td>\n",
       "      <td>...</td>\n",
       "      <td>...</td>\n",
       "      <td>...</td>\n",
       "      <td>...</td>\n",
       "      <td>...</td>\n",
       "      <td>...</td>\n",
       "      <td>...</td>\n",
       "      <td>...</td>\n",
       "      <td>...</td>\n",
       "    </tr>\n",
       "    <tr>\n",
       "      <th>298</th>\n",
       "      <td>57</td>\n",
       "      <td>F</td>\n",
       "      <td>0</td>\n",
       "      <td>140</td>\n",
       "      <td>241</td>\n",
       "      <td>0</td>\n",
       "      <td>1</td>\n",
       "      <td>123</td>\n",
       "      <td>1</td>\n",
       "      <td>0.2</td>\n",
       "      <td>1</td>\n",
       "      <td>0</td>\n",
       "      <td>3</td>\n",
       "      <td>0</td>\n",
       "    </tr>\n",
       "    <tr>\n",
       "      <th>299</th>\n",
       "      <td>45</td>\n",
       "      <td>M</td>\n",
       "      <td>3</td>\n",
       "      <td>110</td>\n",
       "      <td>264</td>\n",
       "      <td>0</td>\n",
       "      <td>1</td>\n",
       "      <td>132</td>\n",
       "      <td>0</td>\n",
       "      <td>1.2</td>\n",
       "      <td>1</td>\n",
       "      <td>0</td>\n",
       "      <td>3</td>\n",
       "      <td>0</td>\n",
       "    </tr>\n",
       "    <tr>\n",
       "      <th>300</th>\n",
       "      <td>68</td>\n",
       "      <td>M</td>\n",
       "      <td>0</td>\n",
       "      <td>144</td>\n",
       "      <td>193</td>\n",
       "      <td>1</td>\n",
       "      <td>1</td>\n",
       "      <td>141</td>\n",
       "      <td>0</td>\n",
       "      <td>3.4</td>\n",
       "      <td>1</td>\n",
       "      <td>2</td>\n",
       "      <td>3</td>\n",
       "      <td>0</td>\n",
       "    </tr>\n",
       "    <tr>\n",
       "      <th>301</th>\n",
       "      <td>57</td>\n",
       "      <td>M</td>\n",
       "      <td>0</td>\n",
       "      <td>130</td>\n",
       "      <td>131</td>\n",
       "      <td>0</td>\n",
       "      <td>1</td>\n",
       "      <td>115</td>\n",
       "      <td>1</td>\n",
       "      <td>1.2</td>\n",
       "      <td>1</td>\n",
       "      <td>1</td>\n",
       "      <td>3</td>\n",
       "      <td>0</td>\n",
       "    </tr>\n",
       "    <tr>\n",
       "      <th>302</th>\n",
       "      <td>57</td>\n",
       "      <td>F</td>\n",
       "      <td>1</td>\n",
       "      <td>130</td>\n",
       "      <td>236</td>\n",
       "      <td>0</td>\n",
       "      <td>0</td>\n",
       "      <td>174</td>\n",
       "      <td>0</td>\n",
       "      <td>0.0</td>\n",
       "      <td>1</td>\n",
       "      <td>1</td>\n",
       "      <td>2</td>\n",
       "      <td>0</td>\n",
       "    </tr>\n",
       "  </tbody>\n",
       "</table>\n",
       "<p>303 rows × 14 columns</p>\n",
       "</div>"
      ],
      "text/plain": [
       "     age sex  cp  trestbps  chol  fbs  restecg  thalach  exang  oldpeak  \\\n",
       "0     63   M   3       145   233    1        0      150      0      2.3   \n",
       "1     37   M   2       130   250    0        1      187      0      3.5   \n",
       "2     41   F   1       130   204    0        0      172      0      1.4   \n",
       "3     56   M   1       120   236    0        1      178      0      0.8   \n",
       "4     57   F   0       120   354    0        1      163      1      0.6   \n",
       "..   ...  ..  ..       ...   ...  ...      ...      ...    ...      ...   \n",
       "298   57   F   0       140   241    0        1      123      1      0.2   \n",
       "299   45   M   3       110   264    0        1      132      0      1.2   \n",
       "300   68   M   0       144   193    1        1      141      0      3.4   \n",
       "301   57   M   0       130   131    0        1      115      1      1.2   \n",
       "302   57   F   1       130   236    0        0      174      0      0.0   \n",
       "\n",
       "     slope  ca  thal  target  \n",
       "0        0   0     1       1  \n",
       "1        0   0     2       1  \n",
       "2        2   0     2       1  \n",
       "3        2   0     2       1  \n",
       "4        2   0     2       1  \n",
       "..     ...  ..   ...     ...  \n",
       "298      1   0     3       0  \n",
       "299      1   0     3       0  \n",
       "300      1   2     3       0  \n",
       "301      1   1     3       0  \n",
       "302      1   1     2       0  \n",
       "\n",
       "[303 rows x 14 columns]"
      ]
     },
     "execution_count": 9,
     "metadata": {},
     "output_type": "execute_result"
    }
   ],
   "source": [
    "df"
   ]
  },
  {
   "cell_type": "code",
   "execution_count": 10,
   "id": "386ce4c1",
   "metadata": {},
   "outputs": [
    {
     "data": {
      "text/html": [
       "<div>\n",
       "<style scoped>\n",
       "    .dataframe tbody tr th:only-of-type {\n",
       "        vertical-align: middle;\n",
       "    }\n",
       "\n",
       "    .dataframe tbody tr th {\n",
       "        vertical-align: top;\n",
       "    }\n",
       "\n",
       "    .dataframe thead th {\n",
       "        text-align: right;\n",
       "    }\n",
       "</style>\n",
       "<table border=\"1\" class=\"dataframe\">\n",
       "  <thead>\n",
       "    <tr style=\"text-align: right;\">\n",
       "      <th></th>\n",
       "      <th>age</th>\n",
       "      <th>cp</th>\n",
       "      <th>trestbps</th>\n",
       "      <th>chol</th>\n",
       "      <th>fbs</th>\n",
       "      <th>restecg</th>\n",
       "      <th>thalach</th>\n",
       "      <th>exang</th>\n",
       "      <th>oldpeak</th>\n",
       "      <th>slope</th>\n",
       "      <th>ca</th>\n",
       "      <th>thal</th>\n",
       "      <th>target</th>\n",
       "    </tr>\n",
       "  </thead>\n",
       "  <tbody>\n",
       "    <tr>\n",
       "      <th>count</th>\n",
       "      <td>303.000000</td>\n",
       "      <td>303.000000</td>\n",
       "      <td>303.000000</td>\n",
       "      <td>303.000000</td>\n",
       "      <td>303.000000</td>\n",
       "      <td>303.000000</td>\n",
       "      <td>303.000000</td>\n",
       "      <td>303.000000</td>\n",
       "      <td>303.000000</td>\n",
       "      <td>303.000000</td>\n",
       "      <td>303.000000</td>\n",
       "      <td>303.000000</td>\n",
       "      <td>303.000000</td>\n",
       "    </tr>\n",
       "    <tr>\n",
       "      <th>mean</th>\n",
       "      <td>54.366337</td>\n",
       "      <td>0.966997</td>\n",
       "      <td>131.623762</td>\n",
       "      <td>246.264026</td>\n",
       "      <td>0.148515</td>\n",
       "      <td>0.528053</td>\n",
       "      <td>149.646865</td>\n",
       "      <td>0.326733</td>\n",
       "      <td>1.039604</td>\n",
       "      <td>1.399340</td>\n",
       "      <td>0.729373</td>\n",
       "      <td>2.313531</td>\n",
       "      <td>0.544554</td>\n",
       "    </tr>\n",
       "    <tr>\n",
       "      <th>std</th>\n",
       "      <td>9.082101</td>\n",
       "      <td>1.032052</td>\n",
       "      <td>17.538143</td>\n",
       "      <td>51.830751</td>\n",
       "      <td>0.356198</td>\n",
       "      <td>0.525860</td>\n",
       "      <td>22.905161</td>\n",
       "      <td>0.469794</td>\n",
       "      <td>1.161075</td>\n",
       "      <td>0.616226</td>\n",
       "      <td>1.022606</td>\n",
       "      <td>0.612277</td>\n",
       "      <td>0.498835</td>\n",
       "    </tr>\n",
       "    <tr>\n",
       "      <th>min</th>\n",
       "      <td>29.000000</td>\n",
       "      <td>0.000000</td>\n",
       "      <td>94.000000</td>\n",
       "      <td>126.000000</td>\n",
       "      <td>0.000000</td>\n",
       "      <td>0.000000</td>\n",
       "      <td>71.000000</td>\n",
       "      <td>0.000000</td>\n",
       "      <td>0.000000</td>\n",
       "      <td>0.000000</td>\n",
       "      <td>0.000000</td>\n",
       "      <td>0.000000</td>\n",
       "      <td>0.000000</td>\n",
       "    </tr>\n",
       "    <tr>\n",
       "      <th>25%</th>\n",
       "      <td>47.500000</td>\n",
       "      <td>0.000000</td>\n",
       "      <td>120.000000</td>\n",
       "      <td>211.000000</td>\n",
       "      <td>0.000000</td>\n",
       "      <td>0.000000</td>\n",
       "      <td>133.500000</td>\n",
       "      <td>0.000000</td>\n",
       "      <td>0.000000</td>\n",
       "      <td>1.000000</td>\n",
       "      <td>0.000000</td>\n",
       "      <td>2.000000</td>\n",
       "      <td>0.000000</td>\n",
       "    </tr>\n",
       "    <tr>\n",
       "      <th>50%</th>\n",
       "      <td>55.000000</td>\n",
       "      <td>1.000000</td>\n",
       "      <td>130.000000</td>\n",
       "      <td>240.000000</td>\n",
       "      <td>0.000000</td>\n",
       "      <td>1.000000</td>\n",
       "      <td>153.000000</td>\n",
       "      <td>0.000000</td>\n",
       "      <td>0.800000</td>\n",
       "      <td>1.000000</td>\n",
       "      <td>0.000000</td>\n",
       "      <td>2.000000</td>\n",
       "      <td>1.000000</td>\n",
       "    </tr>\n",
       "    <tr>\n",
       "      <th>75%</th>\n",
       "      <td>61.000000</td>\n",
       "      <td>2.000000</td>\n",
       "      <td>140.000000</td>\n",
       "      <td>274.500000</td>\n",
       "      <td>0.000000</td>\n",
       "      <td>1.000000</td>\n",
       "      <td>166.000000</td>\n",
       "      <td>1.000000</td>\n",
       "      <td>1.600000</td>\n",
       "      <td>2.000000</td>\n",
       "      <td>1.000000</td>\n",
       "      <td>3.000000</td>\n",
       "      <td>1.000000</td>\n",
       "    </tr>\n",
       "    <tr>\n",
       "      <th>max</th>\n",
       "      <td>77.000000</td>\n",
       "      <td>3.000000</td>\n",
       "      <td>200.000000</td>\n",
       "      <td>564.000000</td>\n",
       "      <td>1.000000</td>\n",
       "      <td>2.000000</td>\n",
       "      <td>202.000000</td>\n",
       "      <td>1.000000</td>\n",
       "      <td>6.200000</td>\n",
       "      <td>2.000000</td>\n",
       "      <td>4.000000</td>\n",
       "      <td>3.000000</td>\n",
       "      <td>1.000000</td>\n",
       "    </tr>\n",
       "  </tbody>\n",
       "</table>\n",
       "</div>"
      ],
      "text/plain": [
       "              age          cp    trestbps        chol         fbs     restecg  \\\n",
       "count  303.000000  303.000000  303.000000  303.000000  303.000000  303.000000   \n",
       "mean    54.366337    0.966997  131.623762  246.264026    0.148515    0.528053   \n",
       "std      9.082101    1.032052   17.538143   51.830751    0.356198    0.525860   \n",
       "min     29.000000    0.000000   94.000000  126.000000    0.000000    0.000000   \n",
       "25%     47.500000    0.000000  120.000000  211.000000    0.000000    0.000000   \n",
       "50%     55.000000    1.000000  130.000000  240.000000    0.000000    1.000000   \n",
       "75%     61.000000    2.000000  140.000000  274.500000    0.000000    1.000000   \n",
       "max     77.000000    3.000000  200.000000  564.000000    1.000000    2.000000   \n",
       "\n",
       "          thalach       exang     oldpeak       slope          ca        thal  \\\n",
       "count  303.000000  303.000000  303.000000  303.000000  303.000000  303.000000   \n",
       "mean   149.646865    0.326733    1.039604    1.399340    0.729373    2.313531   \n",
       "std     22.905161    0.469794    1.161075    0.616226    1.022606    0.612277   \n",
       "min     71.000000    0.000000    0.000000    0.000000    0.000000    0.000000   \n",
       "25%    133.500000    0.000000    0.000000    1.000000    0.000000    2.000000   \n",
       "50%    153.000000    0.000000    0.800000    1.000000    0.000000    2.000000   \n",
       "75%    166.000000    1.000000    1.600000    2.000000    1.000000    3.000000   \n",
       "max    202.000000    1.000000    6.200000    2.000000    4.000000    3.000000   \n",
       "\n",
       "           target  \n",
       "count  303.000000  \n",
       "mean     0.544554  \n",
       "std      0.498835  \n",
       "min      0.000000  \n",
       "25%      0.000000  \n",
       "50%      1.000000  \n",
       "75%      1.000000  \n",
       "max      1.000000  "
      ]
     },
     "execution_count": 10,
     "metadata": {},
     "output_type": "execute_result"
    }
   ],
   "source": [
    "df.describe()"
   ]
  },
  {
   "cell_type": "markdown",
   "id": "638ff565",
   "metadata": {},
   "source": [
    "Como podemos ver na tabela acima, temos como grande maioria <b>variáveis númericas contínuas</b>, a variável target é o que queremos predizer e a variável <b>sex</b> é uma variável categórica no tipo <b>string</b>.\n",
    "\n",
    "<br>\n",
    "\n",
    "<b>Dado que valores muito discrepantes podem ter um impacto muito grande no modelo iremos:</b>\n",
    "\n",
    "- Normalizar as variáveis contínuas\n",
    "\n",
    "<b>Dado que modelos do Sklearn só aceitam variáveis númericas temos que:</b>\n",
    "\n",
    "- Categorizar a variável do tipo string para valor númerico\n",
    "\n",
    "<b>Dado que nem todas as features auxiliam na predição do modelo:</b>\n",
    "\n",
    "- Seleção das K melhores features\n",
    "\n",
    "<b>Dado que temos que garantir a validade estatística dos nossos algoritmos:</b>\n",
    "\n",
    "- K-Fold\n",
    "\n",
    "<b>Dado que temos que queremos ter o melhor algoritmo possível:</b>\n",
    "\n",
    "- GridSearch"
   ]
  },
  {
   "cell_type": "markdown",
   "id": "496407a4",
   "metadata": {},
   "source": [
    "Primeiramente vamos importar a função de <b>Pipeline</b> do sklearn."
   ]
  },
  {
   "cell_type": "markdown",
   "id": "a1c249c2",
   "metadata": {},
   "source": [
    "<img src=\"Figures/cross_validation.png\">\n",
    "<center><b>Relembrando: Validação Cruzada</b></center>\n",
    "\n",
    "\n",
    "<img src=\"Figures/f1.jpeg\">\n",
    "<center><b>Relembrando: F1-Score</b></center>\n",
    "\n",
    "\n",
    "<img src=\"Figures/Precisão_e_revocação.png\" weidth=400 heigth=400>\n",
    "<center><b>Relembrando: F1-Score</b></center>"
   ]
  },
  {
   "cell_type": "code",
   "execution_count": null,
   "id": "7b5a4f53",
   "metadata": {},
   "outputs": [],
   "source": []
  },
  {
   "cell_type": "code",
   "execution_count": 11,
   "id": "e366b4de",
   "metadata": {},
   "outputs": [],
   "source": [
    "from sklearn.pipeline import Pipeline"
   ]
  },
  {
   "cell_type": "markdown",
   "id": "9326db35",
   "metadata": {},
   "source": [
    "<b>Operações que serão aplicadas sobre os dados</b>"
   ]
  },
  {
   "cell_type": "code",
   "execution_count": 12,
   "id": "fc9cd165",
   "metadata": {},
   "outputs": [],
   "source": [
    "from sklearn.preprocessing import OneHotEncoder\n",
    "from sklearn.preprocessing import LabelEncoder\n",
    "\n",
    "from sklearn.impute import SimpleImputer\n",
    "from sklearn.compose import ColumnTransformer\n",
    "from sklearn.model_selection import KFold\n",
    "from sklearn.model_selection import cross_validate\n",
    "from sklearn.metrics import make_scorer\n",
    "from sklearn.metrics import f1_score\n",
    "from sklearn.preprocessing import StandardScaler\n",
    "from sklearn.feature_selection import SelectKBest, mutual_info_classif"
   ]
  },
  {
   "cell_type": "code",
   "execution_count": 13,
   "id": "e412c52e",
   "metadata": {},
   "outputs": [],
   "source": [
    "from sklearn.ensemble import RandomForestClassifier"
   ]
  },
  {
   "cell_type": "markdown",
   "id": "9745b1cd",
   "metadata": {},
   "source": [
    "<b>Sem a utilização de pipelines</b>"
   ]
  },
  {
   "cell_type": "code",
   "execution_count": 14,
   "id": "d4a98214",
   "metadata": {},
   "outputs": [],
   "source": [
    "df_aux = df.copy()\n",
    "\n",
    "imputer = SimpleImputer(strategy='most_frequent')\n",
    "\n",
    "all_columns = list(df_aux.drop(['target'], axis=1).columns)\n",
    "\n",
    "df_aux[all_columns] = imputer.fit_transform(df_aux[all_columns])\n",
    "\n",
    "encoding = LabelEncoder()\n",
    "\n",
    "df_aux['sex'] = encoding.fit_transform(df_aux['sex'])\n",
    "\n",
    "normalization = StandardScaler()\n",
    "\n",
    "df_aux[all_columns] = normalization.fit_transform(df_aux.drop(['target'], axis=1))\n",
    "\n",
    "model = RandomForestClassifier()\n",
    "\n",
    "# # definindo 5 folds em que os dados vão ser divididos\n",
    "kfold = KFold(n_splits=5, shuffle=True)\n",
    "\n",
    "# # Realiza a valiação cruzada dos resultados e \n",
    "# # nos dá como retorno os resultados de cada um dos folds\n",
    "scoring = make_scorer(f1_score)\n",
    "\n",
    "results = cross_validate(model, X=df_aux.drop(['target'], axis=1), y=df_aux['target'], cv=kfold, scoring=scoring)"
   ]
  },
  {
   "cell_type": "code",
   "execution_count": 15,
   "id": "8e13c24b",
   "metadata": {},
   "outputs": [
    {
     "data": {
      "text/plain": [
       "('F1-Score - Mean: ', 0.8472722123988522, ' Std. Dev ', 0.023585682366102815)"
      ]
     },
     "execution_count": 15,
     "metadata": {},
     "output_type": "execute_result"
    }
   ],
   "source": [
    "\"F1-Score - Mean: \", np.mean(results['test_score']), \" Std. Dev \", np.std(results['test_score'])"
   ]
  },
  {
   "cell_type": "markdown",
   "id": "0b3b87a7",
   "metadata": {},
   "source": [
    "<b>Modelo simples sem a variável sexo</b>"
   ]
  },
  {
   "cell_type": "code",
   "execution_count": 16,
   "id": "ca08895f",
   "metadata": {},
   "outputs": [],
   "source": [
    "# criando o pipeline\n",
    "\n",
    "# cada passo é declarado como um dupla\n",
    "# o primeiro valor descreve qual operação será aplicada\n",
    "# o segundo valor possui a função que vai ser aplicada sobre os dados\n",
    "# vale ressaltar que o segundo valor pode ser uma função personalizada\n",
    "# desde que o modelo possua as funções fit, transform\n",
    "\n",
    "\n",
    "df_aux = df.drop(['sex'], axis=1)\n",
    "\n",
    "model = Pipeline(steps=[\n",
    "    ('imputer', SimpleImputer(strategy='most_frequent')),\n",
    "    ('normalization', StandardScaler()),\n",
    "    ('model', RandomForestClassifier())\n",
    "])\n",
    "\n",
    "\n",
    "# definindo 5 folds em que os dados vão ser divididos\n",
    "kfold = KFold(n_splits=5, shuffle=True, random_state=42)\n",
    "\n",
    "# Realiza a valiação cruzada dos resultados e \n",
    "# nos dá como retorno os resultados de cada um dos folds\n",
    "scoring = make_scorer(f1_score)\n",
    "\n",
    "results = cross_validate(model, X=df_aux.drop(['target'], axis=1), y=df_aux['target'], cv=kfold, scoring=scoring)"
   ]
  },
  {
   "cell_type": "code",
   "execution_count": 17,
   "id": "94749aad",
   "metadata": {},
   "outputs": [
    {
     "data": {
      "text/plain": [
       "('F1-Score - Mean: ', 0.8347316915504699, ' Std. Dev ', 0.02905851075121019)"
      ]
     },
     "execution_count": 17,
     "metadata": {},
     "output_type": "execute_result"
    }
   ],
   "source": [
    "\"F1-Score - Mean: \", np.mean(results['test_score']), \" Std. Dev \", np.std(results['test_score'])"
   ]
  },
  {
   "cell_type": "markdown",
   "id": "042b400e",
   "metadata": {},
   "source": [
    "<b>Modelo simples com a variável sexo</b>"
   ]
  },
  {
   "cell_type": "code",
   "execution_count": 18,
   "id": "0ffec20e",
   "metadata": {},
   "outputs": [],
   "source": [
    "imputer = Pipeline(steps=[('imputer', SimpleImputer(strategy='most_frequent'))])\n",
    "\n",
    "encoding = Pipeline(steps=[('encoding', OneHotEncoder())])\n",
    "\n",
    "normalization = Pipeline(steps=[('normalization', StandardScaler())])\n",
    "\n",
    "pre_processing = ColumnTransformer(transformers=[\n",
    "                                                    ('cat', encoding, ['sex']),\n",
    "                                                    ('normalization', normalization, list(df.drop(['sex', 'target'], axis=1).columns)),\n",
    "                                                    ('imputer', imputer, list(df.drop(['sex', 'target'], axis=1).columns))\n",
    "                                                ])\n",
    "\n",
    "model = Pipeline(steps=[\n",
    "    ('pre processing', pre_processing),\n",
    "    ('model', RandomForestClassifier())\n",
    "])\n",
    "\n",
    "\n",
    "# definindo 5 folds em que os dados vão ser divididos\n",
    "kfold = KFold(n_splits=5, shuffle=True, random_state=42)\n",
    "\n",
    "# Realiza a valiação cruzada dos resultados e \n",
    "# nos dá como retorno os resultados de cada um dos folds\n",
    "scoring = make_scorer(f1_score)\n",
    "\n",
    "results = cross_validate(model, X=df.drop(['target'], axis=1), y=df['target'], cv=kfold, scoring=scoring)"
   ]
  },
  {
   "cell_type": "code",
   "execution_count": 19,
   "id": "c408a793",
   "metadata": {},
   "outputs": [
    {
     "data": {
      "text/plain": [
       "('F1-Score - Mean: ', 0.8301304358723713, ' Std. Dev ', 0.019072280231658044)"
      ]
     },
     "execution_count": 19,
     "metadata": {},
     "output_type": "execute_result"
    }
   ],
   "source": [
    "\"F1-Score - Mean: \", np.mean(results['test_score']), \" Std. Dev \", np.std(results['test_score'])"
   ]
  },
  {
   "cell_type": "markdown",
   "id": "e3271eed",
   "metadata": {},
   "source": [
    "## Feature selection em pipelines"
   ]
  },
  {
   "cell_type": "code",
   "execution_count": 20,
   "id": "1597b539",
   "metadata": {},
   "outputs": [],
   "source": [
    "imputer = Pipeline(steps=[('imputer', SimpleImputer(strategy='most_frequent'))])\n",
    "\n",
    "encoding = Pipeline(steps=[('encoding', OneHotEncoder())])\n",
    "\n",
    "normalization = Pipeline(steps=[('normalization', StandardScaler())])\n",
    "\n",
    "pre_processing = ColumnTransformer(transformers=[\n",
    "                                                    ('cat', encoding, ['sex']),\n",
    "                                                    ('normalization', normalization, list(df.drop(['sex', 'target'], axis=1).columns)),\n",
    "                                                    ('imputer', imputer, list(df.drop(['sex', 'target'], axis=1).columns))\n",
    "                                                ])\n",
    "\n",
    "model = Pipeline(steps=[\n",
    "    ('pre processing', pre_processing),\n",
    "    ('feature-selection', SelectKBest(mutual_info_classif, k = 10)),\n",
    "    ('model', RandomForestClassifier())\n",
    "])\n",
    "\n",
    "\n",
    "# definindo 5 folds em que os dados vão ser divididos\n",
    "kfold = KFold(n_splits=5, shuffle=True, random_state=42)\n",
    "\n",
    "# Realiza a valiação cruzada dos resultados e \n",
    "# nos dá como retorno os resultados de cada um dos folds\n",
    "scoring = make_scorer(f1_score)\n",
    "\n",
    "results = cross_validate(model, X=df.drop(['target'], axis=1), y=df['target'], cv=kfold, scoring=scoring)"
   ]
  },
  {
   "cell_type": "code",
   "execution_count": 21,
   "id": "012ad26c",
   "metadata": {},
   "outputs": [
    {
     "data": {
      "text/plain": [
       "('F1-Score - Mean: ', 0.8196961518719321, ' Std. Dev ', 0.030279095740504622)"
      ]
     },
     "execution_count": 21,
     "metadata": {},
     "output_type": "execute_result"
    }
   ],
   "source": [
    "\"F1-Score - Mean: \", np.mean(results['test_score']), \" Std. Dev \", np.std(results['test_score'])"
   ]
  },
  {
   "cell_type": "code",
   "execution_count": 22,
   "id": "218109ec",
   "metadata": {},
   "outputs": [],
   "source": [
    "from sklearn.model_selection import GridSearchCV"
   ]
  },
  {
   "cell_type": "markdown",
   "id": "b52d9035",
   "metadata": {},
   "source": [
    "### Grid Search com pipelines"
   ]
  },
  {
   "cell_type": "code",
   "execution_count": 23,
   "id": "b62078f8",
   "metadata": {},
   "outputs": [
    {
     "data": {
      "text/plain": [
       "{'model__criterion': 'gini', 'model__max_depth': 3, 'model__n_estimators': 200}"
      ]
     },
     "execution_count": 23,
     "metadata": {},
     "output_type": "execute_result"
    }
   ],
   "source": [
    "model = Pipeline(steps=[\n",
    "    ('pre processing', pre_processing),\n",
    "    ('feature-selection', SelectKBest(mutual_info_classif, k = 10)),\n",
    "    ('model', RandomForestClassifier())\n",
    "])\n",
    "\n",
    "# Parâmetros que serão explorados\n",
    "parameters = {'model__max_depth': [3, 4, 5], 'model__criterion': ['gini', 'entropy'],\n",
    "              'model__n_estimators': [50, 100, 200]}\n",
    "\n",
    "# Identifica os melhores parâmetros\n",
    "grid = GridSearchCV(model, param_grid=parameters, cv=kfold, n_jobs=-1)\n",
    "\n",
    "grid.fit(X=df.drop(['target'], axis=1), y=df['target'])\n",
    "\n",
    "# os melhores parâmetros\n",
    "grid.best_params_"
   ]
  },
  {
   "cell_type": "markdown",
   "id": "ad9c4544",
   "metadata": {},
   "source": [
    "## O pipeline em aplicação no dia-a-dia do cientista de dados:\n",
    "\n",
    "No dia-a-dia do cientista de dados os datasets apresentam muito mais problemas do que estes que foram apresentados aqui:\n",
    "\n",
    "- Valores faltantes\n",
    "- Colunas que não se sabe o significado\n",
    "- Colunas que possuem valores similares\n",
    "- Valores muito fora do range de distribuição da variável\n",
    "\n",
    "Então, a gama de operações a serem utilizadas no pipeline só aumenta. Além disso, nem sempre ao pegarmos um dataset sabemos todas as operações que serão aplicadas. \n",
    "\n",
    "A utilização de um pipeline até mesmo antes de definir todo o stack de operações que vão ser aplicadas em um dataset deixa o seu código mais organizado e melhor de ser reproduzido antes de entrar em produção. Isso faz também que o profissional ganhe tempo, já passando as operações de maneira organizada, sem precisar fazer uma refatoração do código antes de coloca-lo em produção.\n",
    "\n",
    "<img src=\"Figures/cd-pipelines.png\" width=400 heigth=400>\n",
    "<center><b>A utilização de técnicas de pipeline auxiliam o cientista de dados até um código mais sucinto e limpo,<br> facilitando a produtização do código</b></center>"
   ]
  },
  {
   "cell_type": "markdown",
   "id": "63073e02",
   "metadata": {},
   "source": [
    "## Resumo de tudo que vimos hoje: Pipeline\n",
    "\n",
    "\n",
    "- Para que serve\n",
    "- Como este foi adaptado do paradigma de programação orientado à objetos\n",
    "- <b>Como utilizar um pipeline no sklearn</b>\n",
    "    - Normalizar variáveis\n",
    "    - Categorizar variáveis\n",
    "    - Seleção de variáveis\n",
    "    - Validação estatística dos resultados\n",
    "    - Seleção de parâmetros pelo modelo\n",
    "- <b>As vantagens do pipeline são:</b>\n",
    "     - Legibilidade\n",
    "     - Reproductibilidade"
   ]
  },
  {
   "cell_type": "markdown",
   "id": "da6c23c8",
   "metadata": {},
   "source": [
    "## Para saber mais:\n",
    "\n",
    "Legibilidade:\n",
    "<a href=\"https://medium.com/@emerson_pereira/lint-o-que-%C3%A9-isso-afinal-83b3dc0dec59\">Lint. O que é isso afinal?</a><br>\n",
    "\n",
    "Reproductibilidade:\n",
    "<a href=\"https://www.pollingdata.com.br/2019/09/o-que-quer-dizer-reprodutibilidade-na-ciencia/\">O que quer dizer reproductibilidade na ciência?</a><br>"
   ]
  },
  {
   "cell_type": "markdown",
   "id": "168f9275",
   "metadata": {},
   "source": [
    "## Referências:\n",
    "\n",
    "\n",
    "<a href=\"https://medium.com/data-hackers/como-usar-pipelines-no-scikit-learn-1398a4cc6ae9\">Como usar pipelines no scikit-learn</a><br>\n",
    "<a href=\"https://scikit-learn.org/stable/modules/compose.html\">Pipelines and composite estimators</a><br>\n",
    "<a href=\"https://scikit-learn.org/stable/modules/generated/sklearn.pipeline.Pipeline.html\">Sklearn pipeline</a><br>\n",
    "<a href=\"https://medium.com/@GouthamPeri/pipeline-with-tuning-scikit-learn-b2789dca9dc2#:~:text=Pipelines%20can%20be%20used%20for,unnecessary%20or%20least%20important%20features.&text=This%20can%20be%20used%20with,importance's%20sorted%20in%20decreasing%20order.\">Pipeline for feature selection</a><br>\n",
    "\n",
    "\n"
   ]
  }
 ],
 "metadata": {
  "kernelspec": {
   "display_name": "Python 3 (ipykernel)",
   "language": "python",
   "name": "python3"
  },
  "language_info": {
   "codemirror_mode": {
    "name": "ipython",
    "version": 3
   },
   "file_extension": ".py",
   "mimetype": "text/x-python",
   "name": "python",
   "nbconvert_exporter": "python",
   "pygments_lexer": "ipython3",
   "version": "3.8.10"
  }
 },
 "nbformat": 4,
 "nbformat_minor": 5
}
